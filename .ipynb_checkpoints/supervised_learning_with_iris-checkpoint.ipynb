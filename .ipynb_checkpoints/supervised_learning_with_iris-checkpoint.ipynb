{
 "cells": [
  {
   "cell_type": "markdown",
   "id": "f3b100b2",
   "metadata": {},
   "source": [
    "## Dataset overview"
   ]
  },
  {
   "cell_type": "code",
   "execution_count": 1,
   "id": "c15fd3b0",
   "metadata": {},
   "outputs": [],
   "source": [
    "# Loading data\n",
    "\n",
    "from sklearn import datasets\n",
    "from collections import Counter\n",
    "irisData = datasets.load_iris()"
   ]
  },
  {
   "cell_type": "code",
   "execution_count": 10,
   "id": "e56cd804",
   "metadata": {},
   "outputs": [
    {
     "data": {
      "text/html": [
       "<div>\n",
       "<style scoped>\n",
       "    .dataframe tbody tr th:only-of-type {\n",
       "        vertical-align: middle;\n",
       "    }\n",
       "\n",
       "    .dataframe tbody tr th {\n",
       "        vertical-align: top;\n",
       "    }\n",
       "\n",
       "    .dataframe thead th {\n",
       "        text-align: right;\n",
       "    }\n",
       "</style>\n",
       "<table border=\"1\" class=\"dataframe\">\n",
       "  <thead>\n",
       "    <tr style=\"text-align: right;\">\n",
       "      <th></th>\n",
       "      <th>0</th>\n",
       "      <th>1</th>\n",
       "      <th>2</th>\n",
       "      <th>3</th>\n",
       "    </tr>\n",
       "  </thead>\n",
       "  <tbody>\n",
       "    <tr>\n",
       "      <th>0</th>\n",
       "      <td>5.1</td>\n",
       "      <td>3.5</td>\n",
       "      <td>1.4</td>\n",
       "      <td>0.2</td>\n",
       "    </tr>\n",
       "    <tr>\n",
       "      <th>1</th>\n",
       "      <td>4.9</td>\n",
       "      <td>3.0</td>\n",
       "      <td>1.4</td>\n",
       "      <td>0.2</td>\n",
       "    </tr>\n",
       "    <tr>\n",
       "      <th>2</th>\n",
       "      <td>4.7</td>\n",
       "      <td>3.2</td>\n",
       "      <td>1.3</td>\n",
       "      <td>0.2</td>\n",
       "    </tr>\n",
       "    <tr>\n",
       "      <th>3</th>\n",
       "      <td>4.6</td>\n",
       "      <td>3.1</td>\n",
       "      <td>1.5</td>\n",
       "      <td>0.2</td>\n",
       "    </tr>\n",
       "    <tr>\n",
       "      <th>4</th>\n",
       "      <td>5.0</td>\n",
       "      <td>3.6</td>\n",
       "      <td>1.4</td>\n",
       "      <td>0.2</td>\n",
       "    </tr>\n",
       "    <tr>\n",
       "      <th>...</th>\n",
       "      <td>...</td>\n",
       "      <td>...</td>\n",
       "      <td>...</td>\n",
       "      <td>...</td>\n",
       "    </tr>\n",
       "    <tr>\n",
       "      <th>145</th>\n",
       "      <td>6.7</td>\n",
       "      <td>3.0</td>\n",
       "      <td>5.2</td>\n",
       "      <td>2.3</td>\n",
       "    </tr>\n",
       "    <tr>\n",
       "      <th>146</th>\n",
       "      <td>6.3</td>\n",
       "      <td>2.5</td>\n",
       "      <td>5.0</td>\n",
       "      <td>1.9</td>\n",
       "    </tr>\n",
       "    <tr>\n",
       "      <th>147</th>\n",
       "      <td>6.5</td>\n",
       "      <td>3.0</td>\n",
       "      <td>5.2</td>\n",
       "      <td>2.0</td>\n",
       "    </tr>\n",
       "    <tr>\n",
       "      <th>148</th>\n",
       "      <td>6.2</td>\n",
       "      <td>3.4</td>\n",
       "      <td>5.4</td>\n",
       "      <td>2.3</td>\n",
       "    </tr>\n",
       "    <tr>\n",
       "      <th>149</th>\n",
       "      <td>5.9</td>\n",
       "      <td>3.0</td>\n",
       "      <td>5.1</td>\n",
       "      <td>1.8</td>\n",
       "    </tr>\n",
       "  </tbody>\n",
       "</table>\n",
       "<p>150 rows × 4 columns</p>\n",
       "</div>"
      ],
      "text/plain": [
       "       0    1    2    3\n",
       "0    5.1  3.5  1.4  0.2\n",
       "1    4.9  3.0  1.4  0.2\n",
       "2    4.7  3.2  1.3  0.2\n",
       "3    4.6  3.1  1.5  0.2\n",
       "4    5.0  3.6  1.4  0.2\n",
       "..   ...  ...  ...  ...\n",
       "145  6.7  3.0  5.2  2.3\n",
       "146  6.3  2.5  5.0  1.9\n",
       "147  6.5  3.0  5.2  2.0\n",
       "148  6.2  3.4  5.4  2.3\n",
       "149  5.9  3.0  5.1  1.8\n",
       "\n",
       "[150 rows x 4 columns]"
      ]
     },
     "execution_count": 10,
     "metadata": {},
     "output_type": "execute_result"
    }
   ],
   "source": [
    "# Data visualization\n",
    "\n",
    "import pandas\n",
    "data = pandas.DataFrame(irisData.data)\n",
    "\n",
    "data"
   ]
  },
  {
   "cell_type": "code",
   "execution_count": 20,
   "id": "2691c065",
   "metadata": {},
   "outputs": [
    {
     "name": "stdout",
     "output_type": "stream",
     "text": [
      "Iris data has  150  instances. Each instance is described with  4  attributes :  sepal length (cm) ,sepal width (cm) ,petal length (cm) ,petal width (cm)  and a class : setosa ,versicolor ,virginica .\n",
      "\n",
      "Iris  Setosa  has  50  instances .\n",
      "Iris  Versicolor  has  50  instances .\n",
      "Iris  Virginica  has  50  instances .\n"
     ]
    }
   ],
   "source": [
    "# Data characteristics\n",
    "\n",
    "instances_nbre, attributes_nbre = irisData.data.shape\n",
    "\n",
    "print('Iris data has ', instances_nbre, ' instances. Each instance is described with ', attributes_nbre , ' attributes : ' , \" ,\".join(irisData.feature_names),' and a class :', \" ,\".join(irisData.target_names), '.\\n')\n",
    "\n",
    "instances_nbre_per_class = Counter(irisData.target)\n",
    "for i in [0, 1, 2]:\n",
    "    print(\"Iris \", irisData.target_names[i].title(), \" has \", instances_nbre_per_class.get(i), \" instances .\")\n",
    "    "
   ]
  },
  {
   "cell_type": "code",
   "execution_count": 28,
   "id": "abc710b0",
   "metadata": {},
   "outputs": [],
   "source": [
    "# Data visualization\n",
    "\n",
    "import matplotlib\n",
    "import pylab as pl\n",
    "def plot_2D(data, target, target_names, attributes):\n",
    "    #Les couleurs à utiliser\n",
    "    colors='rgbcmykw'\n",
    "    #Les ids des classes (0,1 et 2)\n",
    "    target_ids=range(len(target_names))\n",
    "    pl.figure()\n",
    "    pl.xlabel(irisData.feature_names[attributes[0]])\n",
    "    pl.ylabel(irisData.feature_names[attributes[1]])\n",
    "    #On boucle sur le triplet (id classe, couleur, nom de la classe)\n",
    "    for i,c,label in zip(target_ids,colors,target_names):\n",
    "        #On fait un scatter plot en utilisant 2 attributs du dataset\n",
    "        pl.scatter(data[target ==i ,attributes[0]],data[target==i,attributes[1]],c=c,label=label)\n",
    "    pl.legend()\n",
    "    pl.show()"
   ]
  },
  {
   "cell_type": "markdown",
   "id": "d57855be",
   "metadata": {},
   "source": [
    "Data visualization can help identify **relevant attributes**, **outliers**, and whether or not **a class can be separated** from other classes."
   ]
  },
  {
   "cell_type": "code",
   "execution_count": 30,
   "id": "385718e4",
   "metadata": {},
   "outputs": [
    {
     "data": {
      "image/png": "[encoded data removed]",
      "text/plain": [
       "<Figure size 432x288 with 1 Axes>"
      ]
     },
     "metadata": {
      "needs_background": "light"
     },
     "output_type": "display_data"
    },
    {
     "data": {
      "image/png": "[encoded data removed]",
      "text/plain": [
       "<Figure size 432x288 with 1 Axes>"
      ]
     },
     "metadata": {
      "needs_background": "light"
     },
     "output_type": "display_data"
    },
    {
     "data": {
      "image/png": "[encoded data removed]",
      "text/plain": [
       "<Figure size 432x288 with 1 Axes>"
      ]
     },
     "metadata": {
      "needs_background": "light"
     },
     "output_type": "display_data"
    },
    {
     "data": {
      "image/png": "[encoded data removed]",
      "text/plain": [
       "<Figure size 432x288 with 1 Axes>"
      ]
     },
     "metadata": {
      "needs_background": "light"
     },
     "output_type": "display_data"
    },
    {
     "data": {
      "image/png": "[encoded data removed]",
      "text/plain": [
       "<Figure size 432x288 with 1 Axes>"
      ]
     },
     "metadata": {
      "needs_background": "light"
     },
     "output_type": "display_data"
    },
    {
     "data": {
      "image/png": "[encoded data removed]",
      "text/plain": [
       "<Figure size 432x288 with 1 Axes>"
      ]
     },
     "metadata": {
      "needs_background": "light"
     },
     "output_type": "display_data"
    }
   ],
   "source": [
    "attributes_couples = [(0,1), (0,2), (0,3), (1,2), (1,3), (2,3)]\n",
    "\n",
    "for attributes_couple in attributes_couples:\n",
    "    plot_2D(irisData.data,irisData.target,irisData.target_names, attributes_couple)"
   ]
  },
  {
   "cell_type": "markdown",
   "id": "3db6a94d",
   "metadata": {},
   "source": [
    "Note that the **petal length and width** attributes help to completely **separate the Setosa class** from other classes."
   ]
  },
  {
   "cell_type": "code",
   "execution_count": 32,
   "id": "bc479a37",
   "metadata": {},
   "outputs": [
    {
     "data": {
      "image/png": "[encoded data removed]",
      "text/plain": [
       "<Figure size 432x288 with 1 Axes>"
      ]
     },
     "metadata": {
      "needs_background": "light"
     },
     "output_type": "display_data"
    }
   ],
   "source": [
    "data = irisData.data\n",
    "target = irisData.target\n",
    "target_names = irisData.target_names\n",
    "colors='rgbcmykw'\n",
    "target_ids=range(len(target_names))\n",
    "pl.figure()\n",
    "for i,c,label in zip(target_ids,colors,target_names):\n",
    "    pl.scatter(data[target ==i ,2],data[target==i,3],c=c,label=label)\n",
    "pl.plot([2.5,2.5],[0,2.5])\n",
    "pl.legend()\n",
    "pl.show()"
   ]
  },
  {
   "cell_type": "markdown",
   "id": "013f0eb6",
   "metadata": {},
   "source": [
    "## Supervised Learning using Naive Bayes"
   ]
  },
  {
   "cell_type": "markdown",
   "id": "7bd3c1e7",
   "metadata": {},
   "source": [
    "* Learning on all data then predicting the whole dataset."
   ]
  },
  {
   "cell_type": "code",
   "execution_count": 35,
   "id": "f832d916",
   "metadata": {},
   "outputs": [
    {
     "name": "stdout",
     "output_type": "stream",
     "text": [
      "Prediction results :  [0 0 0 0 0 0 0 0 0 0 0 0 0 0 0 0 0 0 0 0 0 0 0 0 0 0 0 0 0 0 0 0 0 0 0 0 0\n",
      " 0 0 0 0 0 0 0 0 0 0 0 0 0 1 1 1 1 1 1 1 1 1 1 1 1 1 1 1 1 1 1 2 1 2 1 2 1\n",
      " 1 1 1 1 1 1 1 1 1 2 1 1 1 1 1 1 1 1 1 1 1 1 1 1 1 1 2 2 2 2 2 2 2 2 2 2 2\n",
      " 2 2 2 2 2 2 2 2 2 2 2 2 2 2 2 2 2 2 1 2 1 2 1 2 2 2 2 2 2 2 2 2 2 2 2 2 2\n",
      " 2 2]\n",
      "Actual results :  [0 0 0 0 0 0 0 0 0 0 0 0 0 0 0 0 0 0 0 0 0 0 0 0 0 0 0 0 0 0 0 0 0 0 0 0 0\n",
      " 0 0 0 0 0 0 0 0 0 0 0 0 0 1 1 1 1 1 1 1 1 1 1 1 1 1 1 1 1 1 1 1 1 1 1 1 1\n",
      " 1 1 1 1 1 1 1 1 1 1 1 1 1 1 1 1 1 1 1 1 1 1 1 1 1 1 2 2 2 2 2 2 2 2 2 2 2\n",
      " 2 2 2 2 2 2 2 2 2 2 2 2 2 2 2 2 2 2 2 2 2 2 2 2 2 2 2 2 2 2 2 2 2 2 2 2 2\n",
      " 2 2]\n"
     ]
    }
   ],
   "source": [
    "from sklearn import naive_bayes\n",
    "\n",
    "# Initialize the classifier\n",
    "nb = naive_bayes.MultinomialNB(fit_prior=True)\n",
    "\n",
    "# Training on all data\n",
    "nb.fit(irisData.data[:], irisData.target[:])\n",
    "\n",
    "# Prediction of all the data\n",
    "predicted_results = nb.predict(irisData.data[:])\n",
    "print(\"Prediction results : \", predicted_results)\n",
    "print(\"Actual results : \", irisData.target)\n"
   ]
  },
  {
   "cell_type": "markdown",
   "id": "5568894a",
   "metadata": {},
   "source": [
    "* Training on some part of the data and predicting the rest."
   ]
  },
  {
   "cell_type": "code",
   "execution_count": 36,
   "id": "38eea0e0",
   "metadata": {},
   "outputs": [
    {
     "name": "stdout",
     "output_type": "stream",
     "text": [
      "Prediction results :  [1 1 1 1 1 1 1 1 1 1 1 1 1 1 1 1 1 1 1 1 1 1 1 1 1 1 1 1 1 1 1 1 1 1 1 1 1\n",
      " 1 1 1 1 1 1 1 1 1 1 1 1]\n",
      "Actual results :  [2 2 2 2 2 2 2 2 2 2 2 2 2 2 2 2 2 2 2 2 2 2 2 2 2 2 2 2 2 2 2 2 2 2 2 2 2\n",
      " 2 2 2 2 2 2 2 2 2 2 2 2]\n"
     ]
    }
   ],
   "source": [
    "# Training on the first 100 instances\n",
    "nb.fit(irisData.data[:99], irisData.target[:99])\n",
    "\n",
    "# Predicting the last 50 instances\n",
    "prediction_result = nb.predict(irisData.data[100:149])\n",
    "\n",
    "print(\"Prediction results : \", prediction_result)\n",
    "print(\"Actual results : \", irisData.target[100:149])"
   ]
  },
  {
   "cell_type": "markdown",
   "id": "b7be4372",
   "metadata": {},
   "source": [
    "***The third class wasn't used during the training phase => We must think about dividing the elements of each class fairly between the prediction and the learning sets (2/3 of each class for the training and the rest for the testing or shuffling the data).***"
   ]
  },
  {
   "cell_type": "code",
   "execution_count": 38,
   "id": "4e7d0e2f",
   "metadata": {},
   "outputs": [
    {
     "name": "stdout",
     "output_type": "stream",
     "text": [
      "Prediction results :  [1, 1, 0, 1, 1, 0, 1, 1, 1, 0, 1, 1, 0, 0, 1, 0, 1, 1, 1, 1, 1, 0, 1, 0, 0, 1, 1, 1, 1, 1, 0, 1, 0, 0, 1, 1, 0, 1, 1, 1, 1, 1, 0, 0, 0, 0, 1, 1, 1]\n",
      "Actual results :  [1, 2, 0, 2, 1, 0, 2, 1, 2, 0, 2, 1, 0, 0, 2, 0, 2, 1, 2, 1, 2, 0, 2, 0, 0, 2, 2, 2, 1, 2, 0, 2, 0, 0, 1, 1, 0, 2, 1, 1, 2, 2, 0, 0, 0, 0, 2, 2, 1]\n"
     ]
    }
   ],
   "source": [
    "# Shuffling the data before splitting the dataset\n",
    "\n",
    "from random import shuffle\n",
    "\n",
    "data = list(zip(irisData.data, irisData.target))\n",
    "shuffle(data)\n",
    "X, y = list(zip(*data))\n",
    "nb.fit(X[:99], y[:99])\n",
    "prediction_result = nb.predict(X[100:149])\n",
    "print(\"Prediction results : \", list(prediction_result))\n",
    "print(\"Actual results : \", list(y[100:149]))"
   ]
  },
  {
   "cell_type": "markdown",
   "id": "e02b1bfa",
   "metadata": {},
   "source": [
    "## Classifier's performance evaluation"
   ]
  },
  {
   "cell_type": "markdown",
   "id": "ae9bb417",
   "metadata": {},
   "source": [
    "### Training Error"
   ]
  },
  {
   "cell_type": "code",
   "execution_count": 56,
   "id": "66ae30f1",
   "metadata": {},
   "outputs": [
    {
     "name": "stdout",
     "output_type": "stream",
     "text": [
      "First Method : 0.04666666666666667\n",
      "Second method : 0.04666666666666667\n",
      "Third method : 0.046666666666666634\n",
      "\n",
      "IDs of instances predicted incorrectly are :  68 ,70 ,72 ,83 ,129 ,131 ,133\n"
     ]
    }
   ],
   "source": [
    "from sklearn.tree import DecisionTreeClassifier\n",
    "from sklearn import naive_bayes\n",
    "import numpy\n",
    "\n",
    "clf = naive_bayes.MultinomialNB(fit_prior=True)\n",
    "clf.fit(irisData.data,irisData.target)\n",
    "\n",
    "P = clf.predict(irisData.data)\n",
    "Y = irisData.target\n",
    "\n",
    "# 1st method :\n",
    "ea1 = 0\n",
    "for i in range(len(P)):\n",
    "    if (P[i]!=Y[i]):\n",
    "        ea1 = ea1 +1\n",
    "print(\"First Method :\", ea1/len(P))\n",
    "\n",
    "# 2nd method : \n",
    "print(\"Second method :\",numpy.count_nonzero(P!=Y) / len(Y))\n",
    "\n",
    "# 3rd method : 1 - score\n",
    "print(\"Third method :\" ,1.0 - clf.score(irisData.data,irisData.target))\n",
    "\n",
    "# Which instances were predicted incorrectly \n",
    "print(\"\\nIDs of instances predicted incorrectly are : \", \" ,\".join(map(str,numpy.nonzero(P!=Y)[0])))\n"
   ]
  },
  {
   "cell_type": "markdown",
   "id": "a15febdb",
   "metadata": {},
   "source": [
    "The training error helps knowing if the classifier has learned well on the training set or not. But, we cannot evaluate the performance of a classifier based only on the training error: a low training error can also indicate an **overfitting**. We need the value of the real error."
   ]
  },
  {
   "cell_type": "markdown",
   "id": "24252049",
   "metadata": {},
   "source": [
    "### Real Error"
   ]
  },
  {
   "cell_type": "markdown",
   "id": "51915ce9",
   "metadata": {},
   "source": [
    "* Using train test split"
   ]
  },
  {
   "cell_type": "code",
   "execution_count": 57,
   "id": "0be06aeb",
   "metadata": {},
   "outputs": [],
   "source": [
    "import random\n",
    "import numpy as np\n",
    "import copy\n",
    "from sklearn.model_selection import train_test_split\n",
    "\n",
    "# 1st method\n",
    "def split(S, taux):\n",
    "    X,y = S\n",
    "    # rand va renvoyer un réel aléatoire entre 0 et 1 (uniform distribution ) => Il y a une probabilité de 'taux' pour avoir un nombre < taux\n",
    "    rand_dist = np.random.rand(len(X)) < taux # On aura un tableau de booleéns (avec 2/3 True et 1/3 False distribués aléatoirement)\n",
    "    dataS1= X[rand_dist]\n",
    "    targetS1= y[rand_dist]\n",
    "    dataS2= X[~rand_dist]\n",
    "    targetS2= y[~rand_dist]\n",
    "    return [dataS1, targetS1, dataS2, targetS2]\n",
    "\n",
    "\n",
    "def test(S,clf, taux):\n",
    "    dataS1,targetS1,dataS2,targetS2 = split(S, taux)\n",
    "    #dataS1,dataS2,targetS1,targetS2 = train_test_split(S.data,S.target,test_size=(1/3))\n",
    "\n",
    "    clf.fit(dataS1,targetS1)\n",
    "    P = clf.predict(dataS2)\n",
    "    return np.count_nonzero(P!=targetS2) / len(P)\n",
    "\n",
    "\n",
    "\n",
    "\n",
    "# 2nd method : built-in function\n",
    "\n",
    "from sklearn.model_selection import train_test_split\n",
    "def train_test_split_testing(S,clf,taux):\n",
    "    X_train, X_test, y_train, y_test = train_test_split(S.data, S.target, test_size=taux)\n",
    "    clf.fit(X_train,y_train)\n",
    "    P = clf.predict(X_test)\n",
    "    return np.count_nonzero(P!=y_test) / len(P)"
   ]
  },
  {
   "cell_type": "code",
   "execution_count": 59,
   "id": "f01c6b9f",
   "metadata": {},
   "outputs": [
    {
     "name": "stdout",
     "output_type": "stream",
     "text": [
      "Test size = 10% : error =  0.13333333333333333\n",
      "Test size = 20% : error =  0.03333333333333333\n",
      "Test size = 25% : error =  0.02631578947368421\n",
      "Test size = 33% : error =  0.34\n",
      "Test size = 50% : error =  0.28\n"
     ]
    }
   ],
   "source": [
    "# Calculating the real error for different test_sizes \n",
    "\n",
    "print(\"Test size = 10% : error = \",train_test_split_testing(irisData,clf,0.1))\n",
    "print(\"Test size = 20% : error = \",train_test_split_testing(irisData,clf,0.2))\n",
    "print(\"Test size = 25% : error = \",train_test_split_testing(irisData,clf,0.25))\n",
    "print(\"Test size = 33% : error = \",train_test_split_testing(irisData,clf,0.33))\n",
    "print(\"Test size = 50% : error = \",train_test_split_testing(irisData,clf,0.5))"
   ]
  },
  {
   "cell_type": "code",
   "execution_count": 61,
   "id": "5db39871",
   "metadata": {},
   "outputs": [
    {
     "name": "stdout",
     "output_type": "stream",
     "text": [
      "0.18\n",
      "0.30612244897959184\n",
      "0.3829787234042553\n",
      "0.03508771929824561\n",
      "0.058823529411764705\n",
      "0.37037037037037035\n",
      "0.1282051282051282\n",
      "0.4117647058823529\n",
      "0.4\n",
      "0.05172413793103448\n"
     ]
    }
   ],
   "source": [
    "# Testing the stability of the error\n",
    "\n",
    "for i in range(0,10) :\n",
    " print(test((irisData.data, irisData.target),clf,2/3))"
   ]
  },
  {
   "cell_type": "code",
   "execution_count": 64,
   "id": "e259f2ab",
   "metadata": {},
   "outputs": [],
   "source": [
    "# To find a stable error : caculate the rror several times and do the average\n",
    "\n",
    "\n",
    "def test_loop(t):\n",
    "    err=0\n",
    "    for i in range(0,t):\n",
    "        err = err + test((irisData.data, irisData.target),clf,2/3)\n",
    "    return(err/t)\n",
    "\n",
    "def test_loop_loop(t):\n",
    "    m=0\n",
    "    for i in range(0,20):\n",
    "        n = test_loop(t)\n",
    "        m = m + n\n",
    "        print(\"iteration \",i+1,\" : \",n)\n",
    "    return (m/20)"
   ]
  },
  {
   "cell_type": "code",
   "execution_count": 65,
   "id": "62ff37e0",
   "metadata": {},
   "outputs": [
    {
     "name": "stdout",
     "output_type": "stream",
     "text": [
      "iteration  1  :  0.30581472533790205\n",
      "iteration  2  :  0.23989142827969592\n",
      "iteration  3  :  0.23423617808336444\n",
      "iteration  4  :  0.23908755501991905\n",
      "iteration  5  :  0.1578578236284774\n",
      "iteration  6  :  0.21987404404771943\n",
      "iteration  7  :  0.30258705355982973\n",
      "iteration  8  :  0.2453598787490626\n",
      "iteration  9  :  0.09657368540824846\n",
      "iteration  10  :  0.15007493466477193\n",
      "iteration  11  :  0.1888567468931473\n",
      "iteration  12  :  0.25712555675099125\n",
      "iteration  13  :  0.2592309075428106\n",
      "iteration  14  :  0.2470599387089508\n",
      "iteration  15  :  0.1928899439322539\n",
      "iteration  16  :  0.2561534995426373\n",
      "iteration  17  :  0.28197445539173716\n",
      "iteration  18  :  0.20774913236041875\n",
      "iteration  19  :  0.22417833752823818\n",
      "iteration  20  :  0.18349665843170615\n"
     ]
    },
    {
     "data": {
      "text/plain": [
       "0.22450362419309414"
      ]
     },
     "execution_count": 65,
     "metadata": {},
     "output_type": "execute_result"
    }
   ],
   "source": [
    "test_loop_loop(10)"
   ]
  },
  {
   "cell_type": "code",
   "execution_count": 66,
   "id": "29adef2a",
   "metadata": {},
   "outputs": [
    {
     "name": "stdout",
     "output_type": "stream",
     "text": [
      "iteration  1  :  0.20390770828177174\n",
      "iteration  2  :  0.20124888584221395\n",
      "iteration  3  :  0.2047515280386961\n",
      "iteration  4  :  0.2013021580742962\n",
      "iteration  5  :  0.20287030530747552\n",
      "iteration  6  :  0.20588464109796759\n",
      "iteration  7  :  0.2035648791692605\n",
      "iteration  8  :  0.19491704775566596\n",
      "iteration  9  :  0.1997763576572367\n",
      "iteration  10  :  0.19376892213375632\n",
      "iteration  11  :  0.19157447973269412\n",
      "iteration  12  :  0.19607980356891275\n",
      "iteration  13  :  0.20105569055137978\n",
      "iteration  14  :  0.203809164676862\n",
      "iteration  15  :  0.20220091126378642\n",
      "iteration  16  :  0.20819900296101984\n",
      "iteration  17  :  0.1996370536403775\n",
      "iteration  18  :  0.20628195217126377\n",
      "iteration  19  :  0.204128820305205\n",
      "iteration  20  :  0.20321421027800757\n"
     ]
    },
    {
     "data": {
      "text/plain": [
       "0.2014086761253925"
      ]
     },
     "execution_count": 66,
     "metadata": {},
     "output_type": "execute_result"
    }
   ],
   "source": [
    "test_loop_loop(1000)"
   ]
  },
  {
   "cell_type": "markdown",
   "id": "d8926d53",
   "metadata": {},
   "source": [
    "The real error is about : 0.2"
   ]
  },
  {
   "cell_type": "markdown",
   "id": "0955bac8",
   "metadata": {},
   "source": [
    "* Using cross-validation"
   ]
  },
  {
   "cell_type": "code",
   "execution_count": 67,
   "id": "a9c8982e",
   "metadata": {},
   "outputs": [],
   "source": [
    "from sklearn.model_selection import cross_val_score\n",
    "\n",
    "def error_cross_val(S,clf,folds):\n",
    "    return 1 - sum(cross_val_score(clf,S.data,S.target,cv=folds)/folds)"
   ]
  },
  {
   "cell_type": "markdown",
   "id": "40513beb",
   "metadata": {},
   "source": [
    "Comparison between Decision Tree and Naive Bayes performances :"
   ]
  },
  {
   "cell_type": "code",
   "execution_count": 68,
   "id": "6cf9fb34",
   "metadata": {},
   "outputs": [],
   "source": [
    "from sklearn.tree import DecisionTreeClassifier\n",
    "from sklearn import naive_bayes\n",
    "\n",
    "DTclf = DecisionTreeClassifier()\n",
    "\n",
    "NBclf = naive_bayes.MultinomialNB(fit_prior=True)"
   ]
  },
  {
   "cell_type": "code",
   "execution_count": 74,
   "id": "8dc75704",
   "metadata": {},
   "outputs": [
    {
     "name": "stdout",
     "output_type": "stream",
     "text": [
      "Naive Bayes, folds =  10 ,  0.046666666666666745\n",
      "Decision Tree, folds =  10 ,  0.046666666666666634\n",
      "\n",
      "Naive Bayes, folds =  2 ,  0.046666666666666634\n",
      "Decision Tree, folds =  2 ,  0.046666666666666634\n",
      "\n",
      "Naive Bayes, folds =  3 ,  0.05333333333333323\n",
      "Decision Tree, folds =  3 ,  0.040000000000000036\n",
      "\n",
      "Naive Bayes, folds =  8 ,  0.052631578947368474\n",
      "Decision Tree, folds =  8 ,  0.03289473684210531\n",
      "\n",
      "Naive Bayes, folds =  5 ,  0.046666666666666856\n",
      "Decision Tree, folds =  5 ,  0.03333333333333344\n",
      "\n",
      "Naive Bayes, folds =  20 ,  0.0410714285714282\n",
      "Decision Tree, folds =  20 ,  0.06071428571428561\n",
      "\n",
      "Naive Bayes, folds =  50 ,  0.0466666666666663\n",
      "Decision Tree, folds =  50 ,  0.05333333333333301\n",
      "\n"
     ]
    }
   ],
   "source": [
    "for i in [10, 2, 3, 8, 5, 20, 50] :\n",
    "    print(\"Naive Bayes, folds = \", i, \", \", error_cross_val(irisData,NBclf,i))\n",
    "    print(\"Decision Tree, folds = \", i, \", \", error_cross_val(irisData,DTclf,i))\n",
    "    print()"
   ]
  }
 ],
 "metadata": {
  "kernelspec": {
   "display_name": "Python 3 (ipykernel)",
   "language": "python",
   "name": "python3"
  },
  "language_info": {
   "codemirror_mode": {
    "name": "ipython",
    "version": 3
   },
   "file_extension": ".py",
   "mimetype": "text/x-python",
   "name": "python",
   "nbconvert_exporter": "python",
   "pygments_lexer": "ipython3",
   "version": "3.9.7"
  }
 },
 "nbformat": 4,
 "nbformat_minor": 5
}
